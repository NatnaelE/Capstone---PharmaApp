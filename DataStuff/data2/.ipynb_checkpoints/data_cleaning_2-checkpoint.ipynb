{
 "cells": [
  {
   "cell_type": "markdown",
   "metadata": {},
   "source": [
    "# Data Cleaning Test Script\n",
    "Same as DataCleaning.py but selects more feature columns from raw data"
   ]
  },
  {
   "cell_type": "code",
   "execution_count": 220,
   "metadata": {},
   "outputs": [],
   "source": [
    "import pandas as pd\n",
    "import re"
   ]
  },
  {
   "cell_type": "code",
   "execution_count": null,
   "metadata": {},
   "outputs": [],
   "source": [
    "# Regex function to remove words starting with a number (and everything after)\n",
    "# i.e. PENTOBARBITAL SODIUM 100 MG CA => PENTOBARBITAL SODIUM\n",
    "def removeDosage(name):\n",
    "    m = re.search(r'^.*(?=(\\s[0123456789\\.]))', name)\n",
    "#     print(m)\n",
    "    if m:\n",
    "        m2 = re.search(r'^.*\\s(?=(\\b[0123456789]))', m.group(0))\n",
    "        m = m if m2 is None else m2\n",
    "    \n",
    "    return name if m is None else m.group(0)\n",
    "\n",
    "def getDosage(name):\n",
    "    m = re.search(r'\\s[0123456789\\.].*\\s.*', name)\n",
    "#   \n",
    "#     if m:\n",
    "#         m_str_prev = m.group(0)\n",
    "#         m_str = ''\n",
    "# #         print(m)\n",
    "#         while m_str != m_str_prev:\n",
    "#             m_str_prev = m.group(0)\n",
    "#             m2 = re.search(r'[0-9].*\\s.*', m.group(0)[10:len(m.group(0))])\n",
    "# #             print(m2)\n",
    "#             # Update match if new\n",
    "#             m = m if m2 is None else m2\n",
    "#             m_str = m.group(0)\n",
    "        \n",
    "    return None if m is None else m.group(0)\n",
    "\n",
    "# dd['FullName'].apply(removeDosage)\n",
    "# dd['BrandName'].apply(removeDosage)\n",
    "# dd['FullName'].apply(getDosage)\n",
    "# getDosage(dd['FullName'][14346])\n",
    "# removeDosage(dd['FullName'][4572])\n",
    "# getDosage(dd['FullName'][0])\n",
    "# removeDosage(dd['BrandName'][13])"
   ]
  },
  {
   "cell_type": "code",
   "execution_count": 224,
   "metadata": {},
   "outputs": [],
   "source": [
    "dd = pd.read_csv('pddf_2021_04_13.csv')\n",
    "# Select more columns now\n",
    "dd = dd[['DIN/PIN', 'Generic Nm', 'Brand Nm', 'Dosage Form']]\n",
    "dd = dd.drop_duplicates(subset = ['Generic Nm'])\n",
    "dd = dd.dropna()\n",
    "dd = dd.rename(columns={\n",
    "    'DIN/PIN': \"DIN\",\n",
    "    'Generic Nm': \"FullName\",\n",
    "    'Brand Nm': \"BrandNameFull\",\n",
    "    'Dosage Form': \"DosageForm\"})\n",
    "# Reset index to handle missing rows\n",
    "dd.reset_index(drop=True, inplace=True)\n",
    "\n",
    "\n",
    "# Seperate name and dosage for generics\n",
    "dd['GenericName'] = dd['FullName'].apply(removeDosage)\n",
    "dd['Dosage'] = dd['FullName'].apply(getDosage)\n",
    "\n",
    "# Get only name for brand names\n",
    "dd['BrandName'] = dd['BrandNameFull'].apply(removeDosage)\n",
    "\n",
    "# Reorder columns\n",
    "dd = dd[['DIN', 'FullName', 'GenericName', 'BrandName', 'Dosage', 'DosageForm']]\n",
    "\n",
    "cleaned = dd\n",
    "# cleaned[\"Quantity\"] = 0\n",
    "cleaned.to_csv(\"cleanedData2.csv\")"
   ]
  }
 ],
 "metadata": {
  "kernelspec": {
   "display_name": "Python 3",
   "language": "python",
   "name": "python3"
  },
  "language_info": {
   "codemirror_mode": {
    "name": "ipython",
    "version": 3
   },
   "file_extension": ".py",
   "mimetype": "text/x-python",
   "name": "python",
   "nbconvert_exporter": "python",
   "pygments_lexer": "ipython3",
   "version": "3.8.3"
  }
 },
 "nbformat": 4,
 "nbformat_minor": 4
}
